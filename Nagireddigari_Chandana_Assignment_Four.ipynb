{
  "cells": [
    {
      "cell_type": "markdown",
      "metadata": {
        "id": "view-in-github",
        "colab_type": "text"
      },
      "source": [
        "<a href=\"https://colab.research.google.com/github/chandanareddy1201/INFO-5731---Computational-Methods-for-Information-Systems/blob/main/Nagireddigari_Chandana_Assignment_Four.ipynb\" target=\"_parent\"><img src=\"https://colab.research.google.com/assets/colab-badge.svg\" alt=\"Open In Colab\"/></a>"
      ]
    },
    {
      "cell_type": "markdown",
      "metadata": {
        "id": "USSdXHuqnwv9"
      },
      "source": [
        "# **INFO5731 Assignment Four**\n",
        "\n",
        "In this assignment, you are required to conduct topic modeling, sentiment analysis based on **the dataset you created from assignment three**."
      ]
    },
    {
      "cell_type": "markdown",
      "metadata": {
        "id": "YWxodXh5n4xF"
      },
      "source": [
        "# **Question 1: Topic Modeling**"
      ]
    },
    {
      "cell_type": "markdown",
      "metadata": {
        "id": "TenBkDJ5n95k"
      },
      "source": [
        "(30 points). This question is designed to help you develop a feel for the way topic modeling works, the connection to the human meanings of documents. Based on the dataset from assignment three, write a python program to **identify the top 10 topics in the dataset**. Before answering this question, please review the materials in lesson 8, especially the code for LDA, LSA, and BERTopic. The following information should be reported:\n",
        "\n",
        "1. Features (text representation) used for topic modeling.\n",
        "\n",
        "2. Top 10 clusters for topic modeling.\n",
        "\n",
        "3. Summarize and describe the topic for each cluster.\n"
      ]
    },
    {
      "cell_type": "code",
      "execution_count": 14,
      "metadata": {
        "id": "PuFPKhC0m1fd",
        "colab": {
          "base_uri": "https://localhost:8080/"
        },
        "outputId": "064c2ffa-8f13-432b-b713-61c79139aa03"
      },
      "outputs": [
        {
          "output_type": "stream",
          "name": "stderr",
          "text": [
            "[nltk_data] Downloading package punkt to /root/nltk_data...\n",
            "[nltk_data]   Package punkt is already up-to-date!\n",
            "[nltk_data] Downloading package stopwords to /root/nltk_data...\n",
            "[nltk_data]   Package stopwords is already up-to-date!\n",
            "[nltk_data] Downloading package wordnet to /root/nltk_data...\n",
            "[nltk_data]   Package wordnet is already up-to-date!\n"
          ]
        },
        {
          "output_type": "stream",
          "name": "stdout",
          "text": [
            "Features (text representation) used for topic modeling:\n",
            "['absolutely' 'adaptation' 'amazing' 'beautiful' 'best' 'better' 'book'\n",
            " 'cinema' 'cinematic' 'cinematography' 'classic' 'denis' 'disappointed'\n",
            " 'dune' 'epic' 'experience' 'fi' 'fiction' 'film' 'films' 'generation'\n",
            " 'good' 'great' 'greatest' 'imax' 'incredible' 'just' 'like' 'live' 'long'\n",
            " 'masterpiece' 'movie' 'movies' 'perfect' 'perfection' 'review' 'sci'\n",
            " 'science' 'seen' 'sequel' 'spectacle' 'spectacular' 'star' 'story'\n",
            " 'stunning' 'time' 've' 'villeneuve' 'visually' 'wars' 'watch' 'wow']\n",
            "\n",
            "Top 10 Clusters (Topics) for Topic Modeling:\n",
            "\n",
            "Topic 1:\n",
            "Top words: ['amazing', 'review', 'adaptation', 'perfection', 'dune', 'better', 'spectacular', 'time', 'best', 'book', 've', 'disappointed', 'just', 'long', 'cinema', 'movie', 'masterpiece', 'film', 'generation', 'spectacle', 'imax', 'epic', 'denis', 'perfect', 'cinematic', 'absolutely', 'great', 'star', 'wars', 'sequel', 'greatest', 'incredible', 'experience', 'stunning', 'villeneuve', 'visually', 'beautiful', 'fiction', 'like', 'science', 'fi', 'live', 'seen', 'wow', 'watch', 'story', 'movies', 'sci', 'classic', 'films', 'good', 'cinematography']\n",
            "Summary:\n",
            "Description: This topic seems to be about positive sentiments or experiences.\n",
            "\n",
            "\n",
            "Topic 2:\n",
            "Top words: ['good', 'stunning', 'fiction', 'absolutely', 'generation', 'science', 'wars', 'star', 'visually', 'epic', 'dune', 'incredible', 'disappointed', 'villeneuve', 'movies', 'great', 'best', 'denis', 'long', 'film', 'sequel', 'classic', 'experience', 'beautiful', 'sci', 'spectacle', 'cinema', 'fi', 'time', 'seen', 'better', 'book', 'films', 'spectacular', 'adaptation', 'movie', 'cinematic', 'review', 'amazing', 'like', 'story', 'watch', 'masterpiece', 'cinematography', 'wow', 'just', 'live', 'perfect', 've', 'imax', 'greatest', 'perfection']\n",
            "Summary:\n",
            "Description: This topic seems to be about positive sentiments or experiences.\n",
            "\n",
            "\n",
            "Topic 3:\n",
            "Top words: ['masterpiece', 'great', 'perfect', 'just', 'cinematic', 'beautiful', 'epic', 'cinematography', 'perfection', 'book', 'good', 'visually', 'generation', 'sequel', 'like', 'incredible', 'story', 'villeneuve', 'fiction', 'watch', 'wars', 'absolutely', 'review', 'best', 'film', 'cinema', 'imax', 'greatest', 'star', 'science', 'classic', 'adaptation', 'sci', 'movies', 'movie', 'denis', 'amazing', 'spectacular', 'stunning', 'long', 'better', 'dune', 'time', 'fi', 'wow', 'live', 'spectacle', 'disappointed', 'films', 'experience', 've', 'seen']\n",
            "Summary:\n",
            "Description: This topic seems to be about positive sentiments or experiences.\n",
            "\n",
            "\n",
            "Topic 4:\n",
            "Top words: ['sci', 'fi', 'best', 'movies', 'book', 'epic', 'cinematography', 'time', 'just', 'films', 'masterpiece', 'adaptation', 've', 'classic', 'spectacular', 'greatest', 'spectacle', 'stunning', 'film', 'movie', 'dune', 'science', 'generation', 'fiction', 'absolutely', 'cinematic', 'seen', 'review', 'villeneuve', 'like', 'disappointed', 'denis', 'experience', 'live', 'long', 'incredible', 'cinema', 'good', 'star', 'perfect', 'great', 'imax', 'sequel', 'wow', 'story', 'beautiful', 'watch', 'perfection', 'better', 'wars', 'visually', 'amazing']\n",
            "Summary:\n",
            "Description: This topic seems to be about positive sentiments or experiences.\n",
            "\n",
            "\n",
            "Topic 5:\n",
            "Top words: ['seen', 've', 'spectacle', 'story', 'best', 'disappointed', 'greatest', 'spectacular', 'films', 'visually', 'movie', 'like', 'stunning', 'sequel', 'time', 'book', 'dune', 'generation', 'great', 'cinematography', 'long', 'film', 'epic', 'movies', 'cinema', 'science', 'imax', 'incredible', 'cinematic', 'star', 'absolutely', 'classic', 'review', 'experience', 'villeneuve', 'perfect', 'just', 'denis', 'good', 'perfection', 'masterpiece', 'amazing', 'wow', 'adaptation', 'live', 'beautiful', 'better', 'fiction', 'sci', 'wars', 'fi', 'watch']\n",
            "Summary:\n",
            "Description: This topic seems to be about positive sentiments or experiences.\n",
            "\n",
            "\n",
            "Topic 6:\n",
            "Top words: ['better', 'villeneuve', 'denis', 'imax', 'experience', 'dune', 'good', 'cinematic', 'cinematography', 'watch', 'spectacle', 'wow', 'great', 'classic', 'absolutely', 'review', 'live', 'masterpiece', 'like', 'wars', 'long', 'films', 'sequel', 'amazing', 'fi', 'perfection', 'science', 'time', 'epic', 'generation', 'star', 'incredible', 've', 'seen', 'best', 'adaptation', 'sci', 'visually', 'perfect', 'stunning', 'cinema', 'fiction', 'book', 'movie', 'just', 'disappointed', 'spectacular', 'story', 'beautiful', 'greatest', 'movies', 'film']\n",
            "Summary:\n",
            "Description: This topic seems to be about positive sentiments or experiences.\n",
            "\n",
            "\n",
            "Topic 7:\n",
            "Top words: ['cinema', 'long', 'like', 'live', 'denis', 'villeneuve', 'best', 'dune', 'film', 'masterpiece', 'movie', 'spectacular', 'story', 'cinematic', 'greatest', 'beautiful', 'experience', 'watch', 'spectacle', 'perfection', 'seen', 'imax', 'fi', 'movies', 'just', 'epic', 'absolutely', 'great', 'time', 'book', 'wars', 've', 'sci', 'classic', 'stunning', 'films', 'wow', 'disappointed', 'generation', 'good', 'fiction', 'cinematography', 'sequel', 'review', 'perfect', 'better', 'amazing', 'incredible', 'science', 'visually', 'adaptation', 'star']\n",
            "Summary:\n",
            "Description: This topic seems to be about positive sentiments or experiences.\n",
            "\n",
            "\n",
            "Topic 8:\n",
            "Top words: ['film', 'epic', 'experience', 'cinematic', 'sequel', 'incredible', 'greatest', 'great', 'spectacular', 'generation', 'dune', 'imax', 'masterpiece', 'movie', 'fi', 'sci', 'perfection', 'amazing', 'time', 'adaptation', 'best', 'spectacle', 'absolutely', 'perfect', 'stunning', 'just', 'wars', 'villeneuve', 'story', 'beautiful', 'review', 've', 'movies', 'good', 'films', 'wow', 'seen', 'cinema', 'classic', 'star', 'better', 'visually', 'science', 'book', 'watch', 'long', 'fiction', 'denis', 'cinematography', 'live', 'like', 'disappointed']\n",
            "Summary:\n",
            "Description: This topic seems to be about positive sentiments or experiences.\n",
            "\n",
            "\n",
            "Topic 9:\n",
            "Top words: ['dune', 'classic', 'cinematic', 'spectacle', 'denis', 'villeneuve', 've', 'watch', 'good', 'movies', 'wow', 'seen', 'long', 'better', 'great', 'live', 'spectacular', 'visually', 'book', 'review', 'stunning', 'masterpiece', 'best', 'story', 'like', 'fi', 'sequel', 'time', 'sci', 'just', 'epic', 'science', 'generation', 'absolutely', 'amazing', 'cinema', 'films', 'disappointed', 'movie', 'greatest', 'adaptation', 'incredible', 'perfection', 'imax', 'experience', 'wars', 'fiction', 'film', 'cinematography', 'star', 'perfect', 'beautiful']\n",
            "Summary:\n",
            "Description: This topic seems to be about positive sentiments or experiences.\n",
            "\n",
            "\n",
            "Topic 10:\n",
            "Top words: ['movie', 'wow', 'watch', 'time', 'just', 'book', 'good', 'cinema', 'long', 'masterpiece', 've', 'perfection', 'sci', 'best', 'beautiful', 'adaptation', 'fi', 'sequel', 'villeneuve', 'denis', 'great', 'like', 'experience', 'star', 'seen', 'epic', 'amazing', 'fiction', 'perfect', 'cinematography', 'absolutely', 'better', 'incredible', 'classic', 'visually', 'review', 'films', 'stunning', 'movies', 'imax', 'generation', 'wars', 'spectacular', 'dune', 'greatest', 'cinematic', 'story', 'spectacle', 'live', 'science', 'disappointed', 'film']\n",
            "Summary:\n",
            "Description: This topic seems to be about positive sentiments or experiences.\n",
            "\n"
          ]
        }
      ],
      "source": [
        "# Import necessary libraries\n",
        "import pandas as pd\n",
        "from sklearn.feature_extraction.text import CountVectorizer\n",
        "from sklearn.decomposition import LatentDirichletAllocation\n",
        "import numpy as np\n",
        "from nltk.tokenize import word_tokenize\n",
        "from nltk.corpus import stopwords\n",
        "from nltk.stem import WordNetLemmatizer\n",
        "\n",
        "# Download NLTK resources\n",
        "import nltk\n",
        "nltk.download('punkt')\n",
        "nltk.download('stopwords')\n",
        "nltk.download('wordnet')\n",
        "\n",
        "# Load dataset\n",
        "data = pd.read_csv('sentimental_analysis.csv')  # Replace 'sentimental_analysis.csv' with the path to your dataset\n",
        "\n",
        "# Text representation using CountVectorizer\n",
        "vectorizer = CountVectorizer(max_features=1000, lowercase=True, stop_words='english', max_df=0.5, min_df=10)\n",
        "X = vectorizer.fit_transform(data['Review Title'])\n",
        "\n",
        "# Features (text representation) used for topic modeling\n",
        "print(\"Features (text representation) used for topic modeling:\")\n",
        "print(vectorizer.get_feature_names_out())\n",
        "\n",
        "# Topic modeling using LDA\n",
        "num_topics = 10\n",
        "lda = LatentDirichletAllocation(n_components=num_topics, max_iter=10, learning_method='online', random_state=42)\n",
        "lda.fit(X)\n",
        "\n",
        "# Preprocessing\n",
        "stop_words = set(stopwords.words('english'))\n",
        "lemmatizer = WordNetLemmatizer()\n",
        "\n",
        "def preprocess_text(text):\n",
        "    tokens = word_tokenize(text.lower()) # Tokenization and lowercase conversion\n",
        "    tokens = [token for token in tokens if token.isalnum()] # Remove non-alphanumeric tokens\n",
        "    tokens = [token for token in tokens if token not in stop_words] # Remove stopwords\n",
        "    tokens = [lemmatizer.lemmatize(token) for token in tokens] # Lemmatization\n",
        "    return ' '.join(tokens)\n",
        "\n",
        "data['clean_text'] = data['Review Title'].apply(preprocess_text)\n",
        "\n",
        "# Function to print top words for each topic and summarize/describe the topic\n",
        "def display_topics(model, feature_names):\n",
        "    for topic_idx, topic in enumerate(model.components_):\n",
        "        print(\"\\nTopic %d:\" % (topic_idx+1))\n",
        "        top_words = [feature_names[i] for i in topic.argsort()[::-1]]\n",
        "        print(\"Top words:\", top_words)\n",
        "        summarize_topic(topic_idx, top_words)\n",
        "\n",
        "\n",
        "# Summarize and describe the topic for each cluster (topic)\n",
        "def summarize_topic(topic_idx, top_words):\n",
        "    print(\"Summary:\")\n",
        "    # Combine the top words into a single string for easier analysis\n",
        "    topic_summary = ' '.join(top_words)\n",
        "\n",
        "    # You can manually inspect the top words and assign a summary based on your understanding of the words\n",
        "    # Provide a description or summary of the topic based on the top words\n",
        "    if 'positive' in topic_summary or 'great' in topic_summary or 'good' in topic_summary:\n",
        "        print(\"Description: This topic seems to be about positive sentiments or experiences.\")\n",
        "    elif 'negative' in topic_summary or 'bad' in topic_summary or 'poor' in topic_summary:\n",
        "        print(\"Description: This topic seems to be about negative sentiments or experiences.\")\n",
        "    else:\n",
        "        print(\"Description: This topic seems to cover a specific aspect or theme related to the data.\")\n",
        "    print()\n",
        "# Print top 10 clusters (topics) for topic modeling\n",
        "print(\"\\nTop 10 Clusters (Topics) for Topic Modeling:\")\n",
        "display_topics(lda, vectorizer.get_feature_names_out())\n"
      ]
    },
    {
      "cell_type": "markdown",
      "metadata": {
        "id": "AfpMRCrRwN6Z"
      },
      "source": [
        "# **Question 2: Sentiment Analysis**"
      ]
    },
    {
      "cell_type": "markdown",
      "metadata": {
        "id": "1dCQEbDawWCw"
      },
      "source": [
        "(30 points). Sentiment analysis also known as opinion mining is a sub field within Natural Language Processing (NLP) that builds machine learning algorithms to classify a text according to the sentimental polarities of opinions it contains, e.g., positive, negative, neutral. The purpose of this question is to develop a machine learning classifier for sentiment analysis. Based on the dataset from assignment three, write a python program to implement a sentiment classifier and evaluate its performance. Notice: **80% data for training and 20% data for testing**.  \n",
        "\n",
        "1. Select features for the sentiment classification and explain why you select these features. Use a markdown cell to provide your explanation.\n",
        "\n",
        "2. Select two of the supervised learning algorithms/models from scikit-learn library: https://scikit-learn.org/stable/supervised_learning.html#supervised-learning, to build two sentiment classifiers respectively. Note: Cross-validation (5-fold or 10-fold) should be conducted. Here is the reference of cross-validation: https://scikit-learn.org/stable/modules/cross_validation.html.\n",
        "\n",
        "3. Compare the performance over accuracy, precision, recall, and F1 score for the two algorithms you selected. The test set must be used for model evaluation in this step. Here is the reference of how to calculate these metrics: https://towardsdatascience.com/accuracy-precision-recall-or-f1-331fb37c5cb9."
      ]
    },
    {
      "cell_type": "markdown",
      "source": [
        "1."
      ],
      "metadata": {
        "id": "uougHhBFr6E8"
      }
    },
    {
      "cell_type": "markdown",
      "source": [
        "2)1.TF-IDF is indispensable in sentiment analysis as it enables one both to identify significant words that will help in sentiment expression and to group together common texts that contain these words. Through putting under a spot light the words which are more infrequently found in the text, the TF-IDF vector model helps models to pay closer attention to these words that are more prone and a good chance to affect the sentiment of the text. Like that, words such as “great” or “terrible” will perhaps be spotted less often on the documents, but the positive or negative emotions they portray are powerful. TF-IDF is also able to assign more influence to these terms as evidenced by the higher number they get, thereby, making them more effective during the decision-making process of the model.\n",
        "This may result to TF-IDF being very relevant to feature extraction in any task where sentiment is analysed because the effect of the terms is high upon the sentiments their often expressed."
      ],
      "metadata": {
        "id": "97C_oYJnvZBt"
      }
    },
    {
      "cell_type": "markdown",
      "source": [],
      "metadata": {
        "id": "gEdDUsH_vEO7"
      }
    },
    {
      "cell_type": "code",
      "execution_count": 7,
      "metadata": {
        "id": "vATjQNTY8buA",
        "colab": {
          "base_uri": "https://localhost:8080/",
          "height": 693
        },
        "outputId": "5fd93189-2ab3-4cbc-8e73-913fc8a99156"
      },
      "outputs": [
        {
          "output_type": "stream",
          "name": "stdout",
          "text": [
            "\n",
            "Classifier: Logistic Regression\n",
            "Accuracy: 0.6700\n",
            "Precision: 0.7596\n",
            "Recall: 0.6700\n",
            "F1 Score: 0.6435\n",
            "Mean Cross-Validation Accuracy: 0.6763\n",
            "\n",
            "Classifier: Multinomial Naive Bayes\n",
            "Accuracy: 0.6250\n",
            "Precision: 0.6743\n",
            "Recall: 0.6250\n",
            "F1 Score: 0.5817\n",
            "Mean Cross-Validation Accuracy: 0.5787\n"
          ]
        },
        {
          "output_type": "display_data",
          "data": {
            "text/plain": [
              "<Figure size 1000x600 with 1 Axes>"
            ],
            "image/png": "[encoded data removed]"
          },
          "metadata": {}
        }
      ],
      "source": [
        "import pandas as pd\n",
        "from sklearn.model_selection import train_test_split, cross_val_score\n",
        "from sklearn.feature_extraction.text import TfidfVectorizer\n",
        "from sklearn.metrics import accuracy_score, precision_score, recall_score, f1_score\n",
        "from sklearn.linear_model import LogisticRegression\n",
        "from sklearn.naive_bayes import MultinomialNB\n",
        "import matplotlib.pyplot as plt\n",
        "\n",
        "# Load dataset\n",
        "data = pd.read_csv('sentimental_analysis.csv')  # Replace 'sentimental_analysis.csv' with the path to your dataset\n",
        "\n",
        "# Split data into train and test sets (80% train, 20% test)\n",
        "X_train, X_test, y_train, y_test = train_test_split(data['Review Title'], data['sentiment_category'], test_size=0.2, random_state=42)\n",
        "\n",
        "# Save train and test CSV files\n",
        "train_data = pd.concat([X_train, y_train], axis=1)\n",
        "test_data = pd.concat([X_test, y_test], axis=1)\n",
        "\n",
        "train_data.to_csv('train_data.csv', index=False)\n",
        "test_data.to_csv('test_data.csv', index=False)\n",
        "\n",
        "# Feature extraction using TF-IDF\n",
        "tfidf_vectorizer = TfidfVectorizer(max_features=1000, lowercase=True, stop_words='english', max_df=0.5, min_df=10)\n",
        "X_train_tfidf = tfidf_vectorizer.fit_transform(X_train)\n",
        "X_test_tfidf = tfidf_vectorizer.transform(X_test)\n",
        "\n",
        "# Define classifiers and a dictionary to hold cross-validation results\n",
        "classifiers = {\n",
        "    'Logistic Regression': LogisticRegression(),\n",
        "    'Multinomial Naive Bayes': MultinomialNB()\n",
        "}\n",
        "cv_accuracy = {}  # Dictionary to store CV accuracies\n",
        "\n",
        "# Perform 5-fold cross-validation for each classifier and evaluate performance\n",
        "for clf_name, clf in classifiers.items():\n",
        "    print(f\"\\nClassifier: {clf_name}\")\n",
        "\n",
        "    # Train the classifier\n",
        "    clf.fit(X_train_tfidf, y_train)\n",
        "\n",
        "    # Predict on test set\n",
        "    y_pred = clf.predict(X_test_tfidf)\n",
        "\n",
        "    # Calculate evaluation metrics\n",
        "    accuracy = accuracy_score(y_test, y_pred)\n",
        "    precision = precision_score(y_test, y_pred, average='weighted')\n",
        "    recall = recall_score(y_test, y_pred, average='weighted')\n",
        "    f1 = f1_score(y_test, y_pred, average='weighted')\n",
        "\n",
        "    # Print evaluation metrics\n",
        "    print(f\"Accuracy: {accuracy:.4f}\")\n",
        "    print(f\"Precision: {precision:.4f}\")\n",
        "    print(f\"Recall: {recall:.4f}\")\n",
        "    print(f\"F1 Score: {f1:.4f}\")\n",
        "\n",
        "    # Cross-validation\n",
        "    cv_scores = cross_val_score(clf, X_train_tfidf, y_train, cv=5)\n",
        "    cv_accuracy[clf_name] = cv_scores.mean()  # Store the mean CV accuracy\n",
        "    print(f\"Mean Cross-Validation Accuracy: {cv_scores.mean():.4f}\")\n",
        "\n",
        "# Visualize the results\n",
        "plt.figure(figsize=(10, 6))\n",
        "plt.bar(cv_accuracy.keys(), cv_accuracy.values(), color=['blue', 'green'])\n",
        "plt.xlabel('Classifier')\n",
        "plt.ylabel('Mean Cross-Validation Accuracy')\n",
        "plt.title('Cross-Validation Accuracy of Sentiment Classifiers')\n",
        "plt.ylim(0, 1)\n",
        "plt.show()\n"
      ]
    },
    {
      "cell_type": "markdown",
      "metadata": {
        "id": "E5mmYIfN8eYV"
      },
      "source": [
        "# **Question 3: House price prediction**"
      ]
    },
    {
      "cell_type": "markdown",
      "metadata": {
        "id": "hsi2y4z88ngX"
      },
      "source": [
        "(20 points). You are required to build a **regression** model to predict the house price with 79 explanatory variables describing (almost) every aspect of residential homes. The purpose of this question is to practice regression analysis, an supervised learning model. The training data, testing data, and data description files can be download from canvas. Here is an axample for implementation: https://towardsdatascience.com/linear-regression-in-python-predict-the-bay-areas-home-price-5c91c8378878.\n",
        "\n",
        "1. Conduct necessary Explatory Data Analysis (EDA) and data cleaning steps on the given dataset. Split data for training and testing.\n",
        "2. Based on the EDA results, select a number of features for the regression model. Shortly explain why you select those features.\n",
        "3. Develop a regression model. The train set should be used.\n",
        "4. Evaluate performance of the regression model you developed using appropriate evaluation metrics. The test set should be used."
      ]
    },
    {
      "cell_type": "markdown",
      "source": [],
      "metadata": {
        "id": "dULvZ2Ujr_qB"
      }
    },
    {
      "cell_type": "markdown",
      "source": [
        "3)2.The relationship between the selected variable is important, which must be strongly related to the SalePrice being the target variable. The connection may be deduced by looking at data preliminary analysis (EDA), which involves such visualization tools and statistical parameters like Pearson correlation coefficients. Here’s why the selected features from this example are typically chosen:\n",
        "OverallQual: For most cases, this develops a general feel for the level and even of the quality of the house from the exteriors. The blissful condition was the important sign to evaluate the house quality that plays a crucial role in property price. The houses that are higher in quality in terms of the overall quality have higher prices to their selling price.\n",
        "\n",
        "GrLivArea: Values above indicate the sizes of living space below the ground level per square feet. Size of the house is the indicative way to know its dimensions. Homes of larger size area often more expensive than smaller houses because these provide a greater area and use for the owner.\n",
        "\n",
        "GarageCars: In this case, the garage area units must be obtained. An appending garage can have a significant appreciating effect on the home value as it is not only a space for storage but also a feature that ensures drivable cars are safely and conveniently stored.\n",
        "\n",
        "TotalBsmtSF: That is for how square feet of the basements. Vice versa, basements can be spotted as multiple function rooms, including extra living area, keeping stuffs & watching a football game, which also give the house utilization and life.\n",
        "\n",
        "FullBath: The number of full bathrooms in the house has real importance because it offers an edge in comfort and convenience of living. More bathrooms typically mean the space can accommodate more number of people whereas having more number of bathroom increases the house's market value by facilitating family life and making hosting easy."
      ],
      "metadata": {
        "id": "9_DyPsXjzPO_"
      }
    },
    {
      "cell_type": "code",
      "execution_count": 8,
      "metadata": {
        "id": "XfvMKJjIXS5G",
        "colab": {
          "base_uri": "https://localhost:8080/"
        },
        "outputId": "4fc89b65-fa5f-407c-a4c4-30e746ae4d01"
      },
      "outputs": [
        {
          "output_type": "stream",
          "name": "stdout",
          "text": [
            "<class 'pandas.core.frame.DataFrame'>\n",
            "RangeIndex: 1460 entries, 0 to 1459\n",
            "Data columns (total 62 columns):\n",
            " #   Column         Non-Null Count  Dtype\n",
            "---  ------         --------------  -----\n",
            " 0   Id             1460 non-null   int64\n",
            " 1   MSSubClass     1460 non-null   int64\n",
            " 2   MSZoning       1460 non-null   int64\n",
            " 3   LotArea        1460 non-null   int64\n",
            " 4   Street         1460 non-null   int64\n",
            " 5   LotShape       1460 non-null   int64\n",
            " 6   LandContour    1460 non-null   int64\n",
            " 7   Utilities      1460 non-null   int64\n",
            " 8   LotConfig      1460 non-null   int64\n",
            " 9   LandSlope      1460 non-null   int64\n",
            " 10  Neighborhood   1460 non-null   int64\n",
            " 11  Condition1     1460 non-null   int64\n",
            " 12  Condition2     1460 non-null   int64\n",
            " 13  BldgType       1460 non-null   int64\n",
            " 14  HouseStyle     1460 non-null   int64\n",
            " 15  OverallQual    1460 non-null   int64\n",
            " 16  OverallCond    1460 non-null   int64\n",
            " 17  YearBuilt      1460 non-null   int64\n",
            " 18  YearRemodAdd   1460 non-null   int64\n",
            " 19  RoofStyle      1460 non-null   int64\n",
            " 20  RoofMatl       1460 non-null   int64\n",
            " 21  Exterior1st    1460 non-null   int64\n",
            " 22  Exterior2nd    1460 non-null   int64\n",
            " 23  ExterQual      1460 non-null   int64\n",
            " 24  ExterCond      1460 non-null   int64\n",
            " 25  Foundation     1460 non-null   int64\n",
            " 26  BsmtFinSF1     1460 non-null   int64\n",
            " 27  BsmtFinSF2     1460 non-null   int64\n",
            " 28  BsmtUnfSF      1460 non-null   int64\n",
            " 29  TotalBsmtSF    1460 non-null   int64\n",
            " 30  Heating        1460 non-null   int64\n",
            " 31  HeatingQC      1460 non-null   int64\n",
            " 32  CentralAir     1460 non-null   int64\n",
            " 33  1stFlrSF       1460 non-null   int64\n",
            " 34  2ndFlrSF       1460 non-null   int64\n",
            " 35  LowQualFinSF   1460 non-null   int64\n",
            " 36  GrLivArea      1460 non-null   int64\n",
            " 37  BsmtFullBath   1460 non-null   int64\n",
            " 38  BsmtHalfBath   1460 non-null   int64\n",
            " 39  FullBath       1460 non-null   int64\n",
            " 40  HalfBath       1460 non-null   int64\n",
            " 41  BedroomAbvGr   1460 non-null   int64\n",
            " 42  KitchenAbvGr   1460 non-null   int64\n",
            " 43  KitchenQual    1460 non-null   int64\n",
            " 44  TotRmsAbvGrd   1460 non-null   int64\n",
            " 45  Functional     1460 non-null   int64\n",
            " 46  Fireplaces     1460 non-null   int64\n",
            " 47  GarageCars     1460 non-null   int64\n",
            " 48  GarageArea     1460 non-null   int64\n",
            " 49  PavedDrive     1460 non-null   int64\n",
            " 50  WoodDeckSF     1460 non-null   int64\n",
            " 51  OpenPorchSF    1460 non-null   int64\n",
            " 52  EnclosedPorch  1460 non-null   int64\n",
            " 53  3SsnPorch      1460 non-null   int64\n",
            " 54  ScreenPorch    1460 non-null   int64\n",
            " 55  PoolArea       1460 non-null   int64\n",
            " 56  MiscVal        1460 non-null   int64\n",
            " 57  MoSold         1460 non-null   int64\n",
            " 58  YrSold         1460 non-null   int64\n",
            " 59  SaleType       1460 non-null   int64\n",
            " 60  SaleCondition  1460 non-null   int64\n",
            " 61  SalePrice      1460 non-null   int64\n",
            "dtypes: int64(62)\n",
            "memory usage: 707.3 KB\n",
            "None\n",
            "                Id   MSSubClass     MSZoning        LotArea       Street  \\\n",
            "count  1460.000000  1460.000000  1460.000000    1460.000000  1460.000000   \n",
            "mean    730.500000    56.897260     3.028767   10516.828082     0.995890   \n",
            "std     421.610009    42.300571     0.632017    9981.264932     0.063996   \n",
            "min       1.000000    20.000000     0.000000    1300.000000     0.000000   \n",
            "25%     365.750000    20.000000     3.000000    7553.500000     1.000000   \n",
            "50%     730.500000    50.000000     3.000000    9478.500000     1.000000   \n",
            "75%    1095.250000    70.000000     3.000000   11601.500000     1.000000   \n",
            "max    1460.000000   190.000000     4.000000  215245.000000     1.000000   \n",
            "\n",
            "          LotShape  LandContour    Utilities    LotConfig    LandSlope  ...  \\\n",
            "count  1460.000000  1460.000000  1460.000000  1460.000000  1460.000000  ...   \n",
            "mean      1.942466     2.777397     0.000685     3.019178     0.062329  ...   \n",
            "std       1.409156     0.707666     0.026171     1.622634     0.276232  ...   \n",
            "min       0.000000     0.000000     0.000000     0.000000     0.000000  ...   \n",
            "25%       0.000000     3.000000     0.000000     2.000000     0.000000  ...   \n",
            "50%       3.000000     3.000000     0.000000     4.000000     0.000000  ...   \n",
            "75%       3.000000     3.000000     0.000000     4.000000     0.000000  ...   \n",
            "max       3.000000     3.000000     1.000000     4.000000     2.000000  ...   \n",
            "\n",
            "       EnclosedPorch    3SsnPorch  ScreenPorch     PoolArea       MiscVal  \\\n",
            "count    1460.000000  1460.000000  1460.000000  1460.000000   1460.000000   \n",
            "mean       21.954110     3.409589    15.060959     2.758904     43.489041   \n",
            "std        61.119149    29.317331    55.757415    40.177307    496.123024   \n",
            "min         0.000000     0.000000     0.000000     0.000000      0.000000   \n",
            "25%         0.000000     0.000000     0.000000     0.000000      0.000000   \n",
            "50%         0.000000     0.000000     0.000000     0.000000      0.000000   \n",
            "75%         0.000000     0.000000     0.000000     0.000000      0.000000   \n",
            "max       552.000000   508.000000   480.000000   738.000000  15500.000000   \n",
            "\n",
            "            MoSold       YrSold     SaleType  SaleCondition      SalePrice  \n",
            "count  1460.000000  1460.000000  1460.000000    1460.000000    1460.000000  \n",
            "mean      6.321918  2007.815753     7.513014       3.770548  180921.195890  \n",
            "std       2.703626     1.328095     1.552100       1.100854   79442.502883  \n",
            "min       1.000000  2006.000000     0.000000       0.000000   34900.000000  \n",
            "25%       5.000000  2007.000000     8.000000       4.000000  129975.000000  \n",
            "50%       6.000000  2008.000000     8.000000       4.000000  163000.000000  \n",
            "75%       8.000000  2009.000000     8.000000       4.000000  214000.000000  \n",
            "max      12.000000  2010.000000     8.000000       5.000000  755000.000000  \n",
            "\n",
            "[8 rows x 62 columns]\n",
            "Id               0\n",
            "MSSubClass       0\n",
            "MSZoning         0\n",
            "LotArea          0\n",
            "Street           0\n",
            "                ..\n",
            "MoSold           0\n",
            "YrSold           0\n",
            "SaleType         0\n",
            "SaleCondition    0\n",
            "SalePrice        0\n",
            "Length: 62, dtype: int64\n",
            "        Id      SalePrice\n",
            "0     1461  106660.540775\n",
            "1     1462  164238.080702\n",
            "2     1463  160814.336830\n",
            "3     1464  183090.226987\n",
            "4     1465  226965.459476\n",
            "...    ...            ...\n",
            "1454  2915   62613.548662\n",
            "1455  2916   81068.914816\n",
            "1456  2917  151064.451218\n",
            "1457  2918   92520.914116\n",
            "1458  2919  245155.335748\n",
            "\n",
            "[1459 rows x 2 columns]\n"
          ]
        }
      ],
      "source": [
        " import pandas as pd\n",
        "from sklearn.model_selection import train_test_split\n",
        "from sklearn.linear_model import LinearRegression\n",
        "from sklearn.preprocessing import LabelEncoder\n",
        "from sklearn.impute import SimpleImputer\n",
        "\n",
        "# Step 1: Exploratory Data Analysis (EDA) and Data Cleaning\n",
        "# Load the dataset\n",
        "train_data = pd.read_csv(\"train.csv\")\n",
        "test_data = pd.read_csv(\"test.csv\")\n",
        "\n",
        "# Handle missing values in training data\n",
        "train_data.dropna(axis=1, inplace=True)\n",
        "\n",
        "# Encode categorical variables in training data\n",
        "encoder = LabelEncoder()\n",
        "categorical_cols = train_data.select_dtypes(include=['object']).columns\n",
        "for col in categorical_cols:\n",
        "    train_data[col] = encoder.fit_transform(train_data[col])\n",
        "\n",
        "# Extract numeric columns for imputation\n",
        "numeric_cols = test_data.select_dtypes(include=['int64', 'float64']).columns\n",
        "imputer = SimpleImputer(strategy='mean')\n",
        "test_data_imputed_numeric = pd.DataFrame(imputer.fit_transform(test_data[numeric_cols]), columns=numeric_cols)\n",
        "\n",
        "# Concatenate numeric columns with non-numeric columns\n",
        "non_numeric_cols = [col for col in test_data.columns if col not in numeric_cols]\n",
        "test_data_imputed = pd.concat([test_data_imputed_numeric, test_data[non_numeric_cols]], axis=1)\n",
        "\n",
        "# Step 2: Feature Selection\n",
        "# Based on EDA results or any other criteria, select a subset of features\n",
        "selected_features = ['OverallQual', 'GrLivArea', 'GarageCars', 'TotalBsmtSF', 'FullBath']\n",
        "\n",
        "# Step 3: Split Data for Training (Not needed for test set prediction)\n",
        "X_train = train_data[selected_features]\n",
        "y_train = train_data['SalePrice']\n",
        "\n",
        "# Step 4: Regression Model Development\n",
        "model = LinearRegression()\n",
        "model.fit(X_train, y_train)\n",
        "\n",
        "# Step 5: Make predictions on the test set\n",
        "X_test = test_data_imputed[selected_features]\n",
        "y_pred = model.predict(X_test)\n",
        "\n",
        "\n",
        "\n",
        "# Prepare predictions for submission\n",
        "submission_df = pd.DataFrame({'Id': test_data['Id'], 'SalePrice': y_pred})\n",
        "submission_df.to_csv(\"submission.csv\", index=False)\n",
        "print(train_data.info())\n",
        "print(train_data.describe())\n",
        "print(train_data.isnull().sum())\n",
        "predictions_df = pd.read_csv(\"submission.csv\")\n",
        "\n",
        "# Print the DataFrame\n",
        "print(submission_df)\n"
      ]
    },
    {
      "cell_type": "markdown",
      "metadata": {
        "id": "_BbswDvnEX-k"
      },
      "source": [
        "# **Question 4: Using Pre-trained LLMs**"
      ]
    },
    {
      "cell_type": "markdown",
      "metadata": {
        "id": "xKwKTnW1EX-k"
      },
      "source": [
        "(20 points)\n",
        "Utilize a **Pre-trained Language Model (PLM) from the Hugging Face Repository** for predicting sentiment polarities on the data you collected in Assignment 3.\n",
        "\n",
        "Then, choose a relevant LLM from their repository, such as GPT-3, BERT, or RoBERTa or any other related models.\n",
        "1. (5 points) Provide a brief description of the PLM you selected, including its original pretraining data sources,  number of parameters, and any task-specific fine-tuning if applied.\n",
        "2. (10 points) Use the selected PLM to perform the sentiment analysis on the data collected in Assignment 3. Only use the model in the **zero-shot** setting, NO finetuning is required. Evaluate performance of the model by comparing with the groundtruths (labels you annotated) on Accuracy, Precision, Recall, and F1 metrics.\n",
        "3. (5 points) Discuss the advantages and disadvantages of the selected PLM, and any challenges encountered during the implementation. This will enable a comprehensive understanding of the chosen LLM's applicability and effectiveness for the given task.\n"
      ]
    },
    {
      "cell_type": "markdown",
      "source": [
        "4)1.The \"Robustly optimized BERT approach\", also known as RoBERTa by its abbreviation form, is a BERT variant brought to life by Facebook AI. It was applied on a larger data set that included different datasets such BookCorpus, CC-News, OpenWebText and Stories which improved its language skills accordingly. The model called \"roberta-base\" has 125 million parameters. It is proficient in a multitude of NLP types, and it lends itself well to zero-shot classification, wherein the model can identify categories of the texts without task-specific training, relying only on the immense breadth of its pretraining."
      ],
      "metadata": {
        "id": "597ZptzD1sGU"
      }
    },
    {
      "cell_type": "markdown",
      "source": [
        "3.Advantages\n",
        "Enhanced Training Data and Techniques: Unlike the original BERT model that was trained on a significantly smaller data set, RoBERTa was fed with a dataset that was wider in terms of domain and the level of diversity, and this is a trend towards improving its language comprehension abilities. That diversity found in the process of word formation makes the algorithm better with text of various kinds as input.\n",
        "\n",
        "Robustness and Generalization: From the numerous texts it has been broadly pre-trained on, RoBERTa inherently tends to feature more robustness, making it easy to adapt to a variety of datasets unlike in the cases where its training set is different from the normal type of data. It lets us address such tasks which can have really diverse input data - this is the case in zero-shot classification problems.\n",
        "\n",
        "Disadvantages\n",
        "Computational Resources: Taking into account 125 million parameters RoBERTa trains with a lot of powerful machinery to be implemented in devices with limited resources for deployment usability.\n",
        "\n",
        "Fine-Tuning Complexity: Although RoBERTa is a good zero-shot learner, fine-tuning it on specific tasks inevitably become complex and the battle for the resources. It calls into existence a perfectly skilled hand that should be able to tune the hyperparameters efficiently and involve a lot of computational resources to get the best results.\n",
        "\n",
        "Model Size and Latency: The size of the model could be the main reason for longer real-time latency which in turn is a crucial point when you are working on the interactive scenarios with the applications that require timely interaction.\n",
        "\n",
        "Challenges in Implementation\n",
        "Handling of Context and Bias: Relying on one of the largest public corpora as a training data like RoBERTa may result in transmission and reinforcement of biases or negative stereotypes within that data. Such biases should be particularly focused when they are involved in applications with sensitive information.\n",
        "\n",
        "\n",
        "Integration with Existing Systems: It as an improper attempt to implement this big model into the production systems that can already be challenging in view of its size and the computational resources it requires.\n",
        "\n",
        "Debugging and Interpretation: Parsing out the problems with predictions and understanding the learnings of the model becomes straining in case a deep learning model behaves like a \"black box\". Thereby, it can lead to even more difficulties in downstream tasks such as troubleshooting and better model improvement."
      ],
      "metadata": {
        "id": "7hmfgcTE0bBl"
      }
    },
    {
      "cell_type": "code",
      "execution_count": 11,
      "metadata": {
        "id": "BJgHWnOhFm-C",
        "colab": {
          "base_uri": "https://localhost:8080/"
        },
        "outputId": "f690c973-4329-44b4-ebb1-12090aa42b47"
      },
      "outputs": [
        {
          "output_type": "stream",
          "name": "stderr",
          "text": [
            "Some weights of RobertaForSequenceClassification were not initialized from the model checkpoint at roberta-base and are newly initialized: ['classifier.dense.bias', 'classifier.dense.weight', 'classifier.out_proj.bias', 'classifier.out_proj.weight']\n",
            "You should probably TRAIN this model on a down-stream task to be able to use it for predictions and inference.\n",
            "Failed to determine 'entailment' label id from the label2id mapping in the model config. Setting to -1. Define a descriptive label2id mapping in the model config to ensure correct outputs.\n"
          ]
        },
        {
          "output_type": "stream",
          "name": "stdout",
          "text": [
            "Accuracy: 0.152\n",
            "Precision: 0.5493253641485416\n",
            "Recall: 0.152\n",
            "F1 Score: 0.09454256261978256\n"
          ]
        }
      ],
      "source": [
        "import pandas as pd\n",
        "from transformers import pipeline\n",
        "from sklearn.metrics import accuracy_score, precision_score, recall_score, f1_score\n",
        "\n",
        "# Load RoBERTa for sentiment analysis\n",
        "classifier = pipeline(\"zero-shot-classification\", model=\"roberta-base\")\n",
        "\n",
        "# Load dataset from CSV\n",
        "dataset_path = \"sentimental_analysis.csv\"  # Update with the path to your CSV file\n",
        "dataset = pd.read_csv(dataset_path)\n",
        "\n",
        "# Extract text data and ground truth labels\n",
        "text_data = dataset[\"Review Title\"].tolist()\n",
        "ground_truths = dataset[\"sentiment_category\"].tolist()\n",
        "\n",
        "# Predict sentiment polarities using RoBERTa\n",
        "predictions = classifier(text_data, candidate_labels=[\"positive\", \"negative\", \"neutral\"])\n",
        "\n",
        "# Extract predicted labels\n",
        "predicted_labels = [pred['labels'][0] for pred in predictions]\n",
        "\n",
        "# Calculate performance metrics\n",
        "accuracy = accuracy_score(ground_truths, predicted_labels)\n",
        "precision = precision_score(ground_truths, predicted_labels, average='weighted')\n",
        "recall = recall_score(ground_truths, predicted_labels, average='weighted')\n",
        "f1 = f1_score(ground_truths, predicted_labels, average='weighted')\n",
        "\n",
        "print(\"Accuracy:\", accuracy)\n",
        "print(\"Precision:\", precision)\n",
        "print(\"Recall:\", recall)\n",
        "print(\"F1 Score:\", f1)"
      ]
    }
  ],
  "metadata": {
    "colab": {
      "provenance": [],
      "include_colab_link": true
    },
    "kernelspec": {
      "display_name": "Python 3 (ipykernel)",
      "language": "python",
      "name": "python3"
    },
    "language_info": {
      "codemirror_mode": {
        "name": "ipython",
        "version": 3
      },
      "file_extension": ".py",
      "mimetype": "text/x-python",
      "name": "python",
      "nbconvert_exporter": "python",
      "pygments_lexer": "ipython3",
      "version": "3.9.12"
    }
  },
  "nbformat": 4,
  "nbformat_minor": 0
}